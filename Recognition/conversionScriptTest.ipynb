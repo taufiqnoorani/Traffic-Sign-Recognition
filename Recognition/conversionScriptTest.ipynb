{
 "cells": [
  {
   "cell_type": "code",
   "execution_count": 1,
   "id": "f8148e41-d109-4878-9458-37bf6e3ee0f7",
   "metadata": {},
   "outputs": [],
   "source": [
    "import pandas as pd\n",
    "import os"
   ]
  },
  {
   "cell_type": "code",
   "execution_count": 2,
   "id": "59e5f23d-eb1a-44e3-909d-3e4d584d4be9",
   "metadata": {},
   "outputs": [],
   "source": [
    "csv_file_path = '../GTSRB Traffic Signs/Test.csv' # path to the csv file\n",
    "test_data = pd.read_csv(csv_file_path) "
   ]
  },
  {
   "cell_type": "code",
   "execution_count": 3,
   "id": "0d014a64-a8a9-4bd1-bda7-d94300f6d036",
   "metadata": {},
   "outputs": [],
   "source": [
    "base_image_dir = '../GTSRB Traffic Signs/Test' # path to the test images\n",
    "output_dir = '../GTSRB Traffic Signs/Test/Labels/'"
   ]
  },
  {
   "cell_type": "code",
   "execution_count": null,
   "id": "97fe189f-c27e-4a98-8dcd-851bf3b241ae",
   "metadata": {},
   "outputs": [],
   "source": [
    "# Ensure the output directory exists\n",
    "os.makedirs(output_dir, exist_ok=True)\n",
    "\n",
    "# Process each row in the test data\n",
    "for index, row in test_data.iterrows():\n",
    "    width = row['Width']\n",
    "    height = row['Height']\n",
    "    x1 = row['Roi.X1']\n",
    "    y1 = row['Roi.Y1']\n",
    "    x2 = row['Roi.X2']\n",
    "    y2 = row['Roi.Y2']\n",
    "    class_id = row['ClassId']\n",
    "    img_filename = row['Path']\n",
    "\n",
    " \n",
    "    img_path = os.path.join(base_image_dir, os.path.basename(img_filename))\n",
    "\n",
    "    if not os.path.isfile(img_path):\n",
    "        print(f\"Warning: Could not find image {img_path}\")\n",
    "        continue \n",
    "\n",
    "    # YOLO format: class_id, x_center, y_center, width, height\n",
    "    # Normalizing the values to [0, 1]\n",
    "    x_center = (x1 + x2) / 2 / width\n",
    "    y_center = (y1 + y2) / 2 / height\n",
    "    box_width = (x2 - x1) / width\n",
    "    box_height = (y2 - y1) / height\n",
    "\n",
    "    yolo_label = f\"{class_id} {x_center:.6f} {y_center:.6f} {box_width:.6f} {box_height:.6f}\\n\"\n",
    "\n",
    "    # Change extension to .txt\n",
    "    label_filename = os.path.splitext(os.path.basename(img_filename))[0] + '.txt'\n",
    "    label_path = os.path.join(output_dir, label_filename)\n",
    "\n",
    "    # YOLO label to the corresponding .txt file\n",
    "    with open(label_path, 'a') as label_file:\n",
    "        label_file.write(yolo_label)\n",
    "\n",
    "    print(f\"Processed {img_filename} -> {label_filename}\")\n",
    "\n",
    "print(\"Conversion completed!\")"
   ]
  },
  {
   "cell_type": "code",
   "execution_count": null,
   "id": "2f9b199f-0c4a-496b-9166-0d29db0cf5bd",
   "metadata": {},
   "outputs": [],
   "source": []
  }
 ],
 "metadata": {
  "kernelspec": {
   "display_name": "Python 3 (ipykernel)",
   "language": "python",
   "name": "python3"
  },
  "language_info": {
   "codemirror_mode": {
    "name": "ipython",
    "version": 3
   },
   "file_extension": ".py",
   "mimetype": "text/x-python",
   "name": "python",
   "nbconvert_exporter": "python",
   "pygments_lexer": "ipython3",
   "version": "3.9.20"
  }
 },
 "nbformat": 4,
 "nbformat_minor": 5
}
