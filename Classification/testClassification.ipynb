{
 "cells": [
  {
   "cell_type": "code",
   "execution_count": null,
   "metadata": {},
   "outputs": [],
   "source": [
    "import torch\n",
    "import torch.nn as nn\n",
    "from torchvision import models, transforms\n",
    "from PIL import Image"
   ]
  },
  {
   "cell_type": "code",
   "execution_count": null,
   "metadata": {},
   "outputs": [],
   "source": [
    "\n",
    "device = torch.device(\"mps\" if torch.backends.mps.is_available() else \"cpu\")\n",
    "model = models.vgg19(weights=None)\n",
    "model.classifier[6] = nn.Linear(4096, 5)  \n",
    "model.load_state_dict(torch.load('model_vgg19_adverse_env.pth', map_location=device))\n",
    "model.eval().to(device)"
   ]
  },
  {
   "cell_type": "code",
   "execution_count": null,
   "metadata": {},
   "outputs": [],
   "source": [
    "\n",
    "transform = transforms.Compose([\n",
    "    transforms.Resize((224, 224)), \n",
    "    transforms.ToTensor(),  \n",
    "    transforms.Normalize(mean=[0.485, 0.456, 0.406], std=[0.229, 0.224, 0.225])  # Normalize\n",
    "])"
   ]
  },
  {
   "cell_type": "code",
   "execution_count": null,
   "metadata": {},
   "outputs": [],
   "source": [
    "\n",
    "image_path = 'so.bmp'  \n",
    "image = Image.open(image_path).convert('RGB')\n",
    "image = transform(image).unsqueeze(0).to(device)  \n",
    "\n",
    "# Forward pass through the model\n",
    "with torch.no_grad():\n",
    "    outputs = model(image)\n",
    "    probabilities = torch.softmax(outputs, dim=1) \n",
    "    predicted = torch.argmax(probabilities, dim=1) \n",
    "\n",
    "# Print out the prediction\n",
    "class_names = ['Haze', 'Lens Blur', 'Rain', 'Shadow', 'Snow']  \n",
    "predicted_class = class_names[predicted.item()]\n",
    "print(f\"Predicted class for input image: {predicted_class}\")"
   ]
  }
 ],
 "metadata": {
  "language_info": {
   "name": "python"
  }
 },
 "nbformat": 4,
 "nbformat_minor": 2
}
